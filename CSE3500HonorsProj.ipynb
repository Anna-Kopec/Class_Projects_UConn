{
  "nbformat": 4,
  "nbformat_minor": 0,
  "metadata": {
    "colab": {
      "provenance": []
    },
    "kernelspec": {
      "name": "python3",
      "display_name": "Python 3"
    },
    "language_info": {
      "name": "python"
    }
  },
  "cells": [
    {
      "cell_type": "markdown",
      "source": [
        "# Honors Project 3\n",
        "- Anna Kopec\n",
        "- CSE 3500"
      ],
      "metadata": {
        "id": "OoklXhpFKlk-"
      }
    },
    {
      "cell_type": "markdown",
      "source": [
        "## Code"
      ],
      "metadata": {
        "id": "xDVCvRGIwTV4"
      }
    },
    {
      "cell_type": "code",
      "execution_count": null,
      "metadata": {
        "id": "41PU14Bekumf"
      },
      "outputs": [],
      "source": [
        "import numpy as np\n",
        "import math\n",
        "import scipy"
      ]
    },
    {
      "cell_type": "markdown",
      "source": [
        "import data"
      ],
      "metadata": {
        "id": "DDh2fBYKKkJd"
      }
    },
    {
      "cell_type": "code",
      "source": [
        "from google.colab import files\n",
        "# upload files from data_and_sols folder\n",
        "uploaded = files.upload()"
      ],
      "metadata": {
        "colab": {
          "base_uri": "https://localhost:8080/",
          "height": 246
        },
        "id": "OVZAqiQoIPbP",
        "outputId": "b9eb2b94-b3ac-43ea-de84-46d428647145"
      },
      "execution_count": null,
      "outputs": [
        {
          "output_type": "display_data",
          "data": {
            "text/plain": [
              "<IPython.core.display.HTML object>"
            ],
            "text/html": [
              "\n",
              "     <input type=\"file\" id=\"files-4a77dd1b-28f7-4ea6-af17-134942ec0da0\" name=\"files[]\" multiple disabled\n",
              "        style=\"border:none\" />\n",
              "     <output id=\"result-4a77dd1b-28f7-4ea6-af17-134942ec0da0\">\n",
              "      Upload widget is only available when the cell has been executed in the\n",
              "      current browser session. Please rerun this cell to enable.\n",
              "      </output>\n",
              "      <script>// Copyright 2017 Google LLC\n",
              "//\n",
              "// Licensed under the Apache License, Version 2.0 (the \"License\");\n",
              "// you may not use this file except in compliance with the License.\n",
              "// You may obtain a copy of the License at\n",
              "//\n",
              "//      http://www.apache.org/licenses/LICENSE-2.0\n",
              "//\n",
              "// Unless required by applicable law or agreed to in writing, software\n",
              "// distributed under the License is distributed on an \"AS IS\" BASIS,\n",
              "// WITHOUT WARRANTIES OR CONDITIONS OF ANY KIND, either express or implied.\n",
              "// See the License for the specific language governing permissions and\n",
              "// limitations under the License.\n",
              "\n",
              "/**\n",
              " * @fileoverview Helpers for google.colab Python module.\n",
              " */\n",
              "(function(scope) {\n",
              "function span(text, styleAttributes = {}) {\n",
              "  const element = document.createElement('span');\n",
              "  element.textContent = text;\n",
              "  for (const key of Object.keys(styleAttributes)) {\n",
              "    element.style[key] = styleAttributes[key];\n",
              "  }\n",
              "  return element;\n",
              "}\n",
              "\n",
              "// Max number of bytes which will be uploaded at a time.\n",
              "const MAX_PAYLOAD_SIZE = 100 * 1024;\n",
              "\n",
              "function _uploadFiles(inputId, outputId) {\n",
              "  const steps = uploadFilesStep(inputId, outputId);\n",
              "  const outputElement = document.getElementById(outputId);\n",
              "  // Cache steps on the outputElement to make it available for the next call\n",
              "  // to uploadFilesContinue from Python.\n",
              "  outputElement.steps = steps;\n",
              "\n",
              "  return _uploadFilesContinue(outputId);\n",
              "}\n",
              "\n",
              "// This is roughly an async generator (not supported in the browser yet),\n",
              "// where there are multiple asynchronous steps and the Python side is going\n",
              "// to poll for completion of each step.\n",
              "// This uses a Promise to block the python side on completion of each step,\n",
              "// then passes the result of the previous step as the input to the next step.\n",
              "function _uploadFilesContinue(outputId) {\n",
              "  const outputElement = document.getElementById(outputId);\n",
              "  const steps = outputElement.steps;\n",
              "\n",
              "  const next = steps.next(outputElement.lastPromiseValue);\n",
              "  return Promise.resolve(next.value.promise).then((value) => {\n",
              "    // Cache the last promise value to make it available to the next\n",
              "    // step of the generator.\n",
              "    outputElement.lastPromiseValue = value;\n",
              "    return next.value.response;\n",
              "  });\n",
              "}\n",
              "\n",
              "/**\n",
              " * Generator function which is called between each async step of the upload\n",
              " * process.\n",
              " * @param {string} inputId Element ID of the input file picker element.\n",
              " * @param {string} outputId Element ID of the output display.\n",
              " * @return {!Iterable<!Object>} Iterable of next steps.\n",
              " */\n",
              "function* uploadFilesStep(inputId, outputId) {\n",
              "  const inputElement = document.getElementById(inputId);\n",
              "  inputElement.disabled = false;\n",
              "\n",
              "  const outputElement = document.getElementById(outputId);\n",
              "  outputElement.innerHTML = '';\n",
              "\n",
              "  const pickedPromise = new Promise((resolve) => {\n",
              "    inputElement.addEventListener('change', (e) => {\n",
              "      resolve(e.target.files);\n",
              "    });\n",
              "  });\n",
              "\n",
              "  const cancel = document.createElement('button');\n",
              "  inputElement.parentElement.appendChild(cancel);\n",
              "  cancel.textContent = 'Cancel upload';\n",
              "  const cancelPromise = new Promise((resolve) => {\n",
              "    cancel.onclick = () => {\n",
              "      resolve(null);\n",
              "    };\n",
              "  });\n",
              "\n",
              "  // Wait for the user to pick the files.\n",
              "  const files = yield {\n",
              "    promise: Promise.race([pickedPromise, cancelPromise]),\n",
              "    response: {\n",
              "      action: 'starting',\n",
              "    }\n",
              "  };\n",
              "\n",
              "  cancel.remove();\n",
              "\n",
              "  // Disable the input element since further picks are not allowed.\n",
              "  inputElement.disabled = true;\n",
              "\n",
              "  if (!files) {\n",
              "    return {\n",
              "      response: {\n",
              "        action: 'complete',\n",
              "      }\n",
              "    };\n",
              "  }\n",
              "\n",
              "  for (const file of files) {\n",
              "    const li = document.createElement('li');\n",
              "    li.append(span(file.name, {fontWeight: 'bold'}));\n",
              "    li.append(span(\n",
              "        `(${file.type || 'n/a'}) - ${file.size} bytes, ` +\n",
              "        `last modified: ${\n",
              "            file.lastModifiedDate ? file.lastModifiedDate.toLocaleDateString() :\n",
              "                                    'n/a'} - `));\n",
              "    const percent = span('0% done');\n",
              "    li.appendChild(percent);\n",
              "\n",
              "    outputElement.appendChild(li);\n",
              "\n",
              "    const fileDataPromise = new Promise((resolve) => {\n",
              "      const reader = new FileReader();\n",
              "      reader.onload = (e) => {\n",
              "        resolve(e.target.result);\n",
              "      };\n",
              "      reader.readAsArrayBuffer(file);\n",
              "    });\n",
              "    // Wait for the data to be ready.\n",
              "    let fileData = yield {\n",
              "      promise: fileDataPromise,\n",
              "      response: {\n",
              "        action: 'continue',\n",
              "      }\n",
              "    };\n",
              "\n",
              "    // Use a chunked sending to avoid message size limits. See b/62115660.\n",
              "    let position = 0;\n",
              "    do {\n",
              "      const length = Math.min(fileData.byteLength - position, MAX_PAYLOAD_SIZE);\n",
              "      const chunk = new Uint8Array(fileData, position, length);\n",
              "      position += length;\n",
              "\n",
              "      const base64 = btoa(String.fromCharCode.apply(null, chunk));\n",
              "      yield {\n",
              "        response: {\n",
              "          action: 'append',\n",
              "          file: file.name,\n",
              "          data: base64,\n",
              "        },\n",
              "      };\n",
              "\n",
              "      let percentDone = fileData.byteLength === 0 ?\n",
              "          100 :\n",
              "          Math.round((position / fileData.byteLength) * 100);\n",
              "      percent.textContent = `${percentDone}% done`;\n",
              "\n",
              "    } while (position < fileData.byteLength);\n",
              "  }\n",
              "\n",
              "  // All done.\n",
              "  yield {\n",
              "    response: {\n",
              "      action: 'complete',\n",
              "    }\n",
              "  };\n",
              "}\n",
              "\n",
              "scope.google = scope.google || {};\n",
              "scope.google.colab = scope.google.colab || {};\n",
              "scope.google.colab._files = {\n",
              "  _uploadFiles,\n",
              "  _uploadFilesContinue,\n",
              "};\n",
              "})(self);\n",
              "</script> "
            ]
          },
          "metadata": {}
        },
        {
          "output_type": "stream",
          "name": "stdout",
          "text": [
            "Saving casino1.txt to casino1 (1).txt\n",
            "Saving casino1_sols.txt to casino1_sols (1).txt\n",
            "Saving casino2.txt to casino2 (1).txt\n",
            "Saving casino3.txt to casino3 (1).txt\n",
            "Saving casino3_sols.txt to casino3_sols (1).txt\n",
            "Saving casino2_sols.txt to casino2_sols (1).txt\n"
          ]
        }
      ]
    },
    {
      "cell_type": "markdown",
      "source": [
        "### initialize stuff\n",
        "* reformat data\n",
        "* 2 hidden states\n",
        "* 6 possible observations\n"
      ],
      "metadata": {
        "id": "QwvtRqFGIRI0"
      }
    },
    {
      "cell_type": "code",
      "source": [
        "def data_format(f, i):\n",
        "  with open(f, 'r') as file:\n",
        "    lines = file.readlines()\n",
        "  data = [num.strip() for num in lines[i]]\n",
        "  data.pop()\n",
        "  return data"
      ],
      "metadata": {
        "id": "6LR-tGutKjAI"
      },
      "execution_count": null,
      "outputs": []
    },
    {
      "cell_type": "code",
      "source": [
        "inputs = [data_format(f'casino{i}.txt', 0) for i in range(1,4)]\n",
        "outputs = [data_format(f'casino{i}_sols.txt', 1) for i in range(1,4)]"
      ],
      "metadata": {
        "id": "d0S_ZIeCm3w3"
      },
      "execution_count": null,
      "outputs": []
    },
    {
      "cell_type": "markdown",
      "source": [
        "% accuracy function (correct predictions/total predictions)"
      ],
      "metadata": {
        "id": "HRgfvb6GkthJ"
      }
    },
    {
      "cell_type": "code",
      "source": [
        "def acc(A, B):\n",
        "  n = len(B)\n",
        "  correct = 0\n",
        "  for i in range(n):\n",
        "    if A[i] == B[i]:\n",
        "      correct += 1\n",
        "  return ((correct)/n)*100\n"
      ],
      "metadata": {
        "id": "YhlumSG4mTLw"
      },
      "execution_count": null,
      "outputs": []
    },
    {
      "cell_type": "markdown",
      "source": [
        "Initialize probabilities"
      ],
      "metadata": {
        "id": "FCGl3H0Vk1Ue"
      }
    },
    {
      "cell_type": "code",
      "source": [
        "dice = {0: 'F', 1: 'L'}\n",
        "dice_rolls = ['1', '2', '3', '4', '5', '6']\n",
        "\n",
        "# emmision probability\n",
        "\n",
        "fair_EP = np.full(6, 1/6)\n",
        "load_EP = np.full(5, 1/10)\n",
        "load_EP = np.append(load_EP, 1/2)\n",
        "\n",
        "EP = {0:{dice_rolls[i]: fair_EP[i] for i in range(6)},\n",
        "      1: {dice_rolls[i]: load_EP[i] for i in range(6)}}\n",
        "\n",
        "# transition probability\n",
        "\n",
        "TP = {0:[0.95, 0.05], 1:[0.1, 0.9]}\n",
        "\n",
        "# equally likely to start w L or F\n",
        "init = [0.5, 0.5]\n"
      ],
      "metadata": {
        "id": "t_Yx4CvpAxGR"
      },
      "execution_count": null,
      "outputs": []
    },
    {
      "cell_type": "code",
      "source": [
        "EP"
      ],
      "metadata": {
        "colab": {
          "base_uri": "https://localhost:8080/"
        },
        "id": "Egfb9phpy-6i",
        "outputId": "95b80fd1-a0fd-4582-db9a-cbd5ea29f859"
      },
      "execution_count": null,
      "outputs": [
        {
          "output_type": "execute_result",
          "data": {
            "text/plain": [
              "{0: {'1': 0.16666666666666666,\n",
              "  '2': 0.16666666666666666,\n",
              "  '3': 0.16666666666666666,\n",
              "  '4': 0.16666666666666666,\n",
              "  '5': 0.16666666666666666,\n",
              "  '6': 0.16666666666666666},\n",
              " 1: {'1': 0.1, '2': 0.1, '3': 0.1, '4': 0.1, '5': 0.1, '6': 0.5}}"
            ]
          },
          "metadata": {},
          "execution_count": 177
        }
      ]
    },
    {
      "cell_type": "code",
      "source": [
        "TP"
      ],
      "metadata": {
        "colab": {
          "base_uri": "https://localhost:8080/"
        },
        "id": "F9VuWUSty__w",
        "outputId": "d82aa21b-adeb-4f0e-bf02-b33e7f16570e"
      },
      "execution_count": null,
      "outputs": [
        {
          "output_type": "execute_result",
          "data": {
            "text/plain": [
              "{0: [0.95, 0.05], 1: [0.1, 0.9]}"
            ]
          },
          "metadata": {},
          "execution_count": 178
        }
      ]
    },
    {
      "cell_type": "markdown",
      "source": [
        "### Viterbi Alg"
      ],
      "metadata": {
        "id": "Hs45rqYIOcJH"
      }
    },
    {
      "cell_type": "code",
      "source": [
        "def Viterbi(S, R, I, TP, EP, T):\n",
        "    '''Viterbi algorithm\n",
        "    alg uses logs to avoid underflow '''\n",
        "\n",
        "    T_len = len(T)\n",
        "    prob = np.zeros((T_len, S), dtype=np.float64)\n",
        "    prev = np.zeros((T_len, S), dtype=np.float64)\n",
        "\n",
        "    # initial timestep\n",
        "\n",
        "    for s in range(S):\n",
        "        prob[0][s] = math.log(I[s]) + math.log(EP[s][T[0]])\n",
        "\n",
        "    # forawrd pass\n",
        "    for t in range(1, T_len):\n",
        "        for s in range(S):\n",
        "            max_prob = -np.inf\n",
        "            max_state = -1\n",
        "            for a in range(S):\n",
        "                n_prob = prob[t-1][a] + math.log(TP[a][s]) + math.log(EP[s][T[t]])\n",
        "                if n_prob > max_prob:\n",
        "                    max_prob = n_prob\n",
        "                    max_state = a\n",
        "            prob[t][s] = max_prob\n",
        "            prev[t][s] = max_state\n",
        "\n",
        "    # initialize hidden state path\n",
        "    path = np.zeros(T_len, dtype=int)\n",
        "    path[T_len-1] = np.argmax(prob[T_len-1])\n",
        "\n",
        "    # use back pointers to traceback sequence of hidden states\n",
        "    for t in range(T_len-2, -1, -1):\n",
        "        path[t] = prev[t+1][path[t+1]]\n",
        "\n",
        "    # return most likely sequence of hidden states\n",
        "    return [dice[path[i]] for i in range(len(path))]"
      ],
      "metadata": {
        "id": "-c3auHZ-ME0O"
      },
      "execution_count": null,
      "outputs": []
    },
    {
      "cell_type": "markdown",
      "source": [
        "Test Viterbi"
      ],
      "metadata": {
        "id": "K_4E5HEZtRYu"
      }
    },
    {
      "cell_type": "code",
      "source": [
        "accs = []\n",
        "# go thru all 3 cases\n",
        "for i in range(3):\n",
        "  gen = Viterbi(2, 6, init, TP, EP, inputs[i])\n",
        "  accs.append(acc(gen, outputs[i]))\n",
        "print(f'mean prediction accuracy is: {np.mean(accs)}%')"
      ],
      "metadata": {
        "colab": {
          "base_uri": "https://localhost:8080/"
        },
        "id": "flnd-7ySaGZS",
        "outputId": "eee46ebe-c678-49ce-b384-d08400e46bb5"
      },
      "execution_count": null,
      "outputs": [
        {
          "output_type": "stream",
          "name": "stdout",
          "text": [
            "mean prediction accuracy is: 83.31773602741345%\n"
          ]
        }
      ]
    },
    {
      "cell_type": "markdown",
      "source": [
        "### Forward-Backward Alg"
      ],
      "metadata": {
        "id": "E0H8EGCauDm3"
      }
    },
    {
      "cell_type": "code",
      "source": [
        "def ForwardBackward(S, I, TP, EP, T):\n",
        "    ''' Forward-Backward Algorithm\n",
        "    Alg uses log-sum exp trick to avoid under/overflow'''\n",
        "\n",
        "    T_len = len(T)\n",
        "    forward = np.zeros((T_len, S), dtype=np.float64)\n",
        "    backward = np.zeros((T_len, S), dtype=np.float64)\n",
        "\n",
        "    # initial time step\n",
        "    for s in range(S):\n",
        "        forward[0, s] = np.log(I[s]) + (EP[s][int(T[0])-1])\n",
        "        backward[T_len-1, s] = np.log(1)\n",
        "\n",
        "    # forward pass\n",
        "    for t in range(1, T_len):\n",
        "        for s in range(S):\n",
        "            log_transitions = forward[t-1, :] + (TP[:][s])\n",
        "            forward[t, s] = (EP[s][int(T[t]) - 1]) + scipy.special.logsumexp(log_transitions)\n",
        "\n",
        "    # backward pass\n",
        "    for t in range(T_len - 2, -1, -1):\n",
        "        for s in range(S):\n",
        "            log_transitions = TP[s][:] + [EP[s][int(T[t + 1])-1] for s in range(S)] + backward[t + 1, :]\n",
        "            backward[t, s] = scipy.special.logsumexp(log_transitions)\n",
        "\n",
        "    # normalize\n",
        "    FB = np.zeros((T_len, S))\n",
        "    for t in range(T_len):\n",
        "        for s in range(S):\n",
        "            FB[t, s] = forward[t, s] + backward[t, s]\n",
        "        FB[t, :] = np.exp(FB[t, :] - scipy.special.logsumexp(FB[t, :]))\n",
        "\n",
        "    # return array of hidden state probability distributions for each timestep\n",
        "    return FB"
      ],
      "metadata": {
        "id": "DQccTm68uC_p"
      },
      "execution_count": null,
      "outputs": []
    },
    {
      "cell_type": "markdown",
      "source": [
        "Test Forward-Backward"
      ],
      "metadata": {
        "id": "a96ZDnHTK8D3"
      }
    },
    {
      "cell_type": "code",
      "source": [
        "probs = []\n",
        "\n",
        "# convert probabilities to log (and slight reformatting on EP nested dict -> EP 2d list)\n",
        "log_TP = [np.log(p) for p in TP.values()]\n",
        "log_EP = []\n",
        "for s in range(2):\n",
        "  curr = EP[s]\n",
        "  log_EP.append([np.log(i) for i in curr.values()])\n",
        "\n",
        "# go thru all 3 cases\n",
        "for i in range(3):\n",
        "  gen = ForwardBackward(2, init, log_TP, log_EP, inputs[i])\n",
        "  probs.append(gen)\n",
        "\n"
      ],
      "metadata": {
        "id": "HCjRtypZKPjh"
      },
      "execution_count": null,
      "outputs": []
    },
    {
      "cell_type": "code",
      "source": [
        "# convert probability distribution to sequence based on max prob at each t step\n",
        "sequences = []\n",
        "for prob in probs:\n",
        "  sequence = []\n",
        "  for i in prob:\n",
        "    if i[0] > i[1]:\n",
        "      sequence.append('F')\n",
        "    else:\n",
        "      sequence.append('L')\n",
        "  sequences.append(sequence)\n",
        "\n",
        "accs = []\n",
        "for i in range(3):\n",
        "  accs.append(acc(sequences[i], outputs[i]))\n",
        "print(f'mean prediction accuracy is: {np.mean(accs)}%')\n",
        "\n"
      ],
      "metadata": {
        "colab": {
          "base_uri": "https://localhost:8080/"
        },
        "id": "GAfPZsjoXlWZ",
        "outputId": "ab5b2411-2b81-4d33-c511-8a9f61992914"
      },
      "execution_count": null,
      "outputs": [
        {
          "output_type": "stream",
          "name": "stdout",
          "text": [
            "mean prediction accuracy is: 86.98294537004215%\n"
          ]
        }
      ]
    },
    {
      "cell_type": "markdown",
      "source": [
        "## Written Analysis"
      ],
      "metadata": {
        "id": "7LDgDkxCwRTe"
      }
    },
    {
      "cell_type": "markdown",
      "source": [
        "*Implement the Viterbi and forward-backward algorithms using the previously defined HMM\n",
        "to find the most probable explanation of hidden states that generate the series of dice rolls\n",
        "on HuskyCT. Compare your solutions with the ground truth. In general, discuss when you\n",
        "would prefer Viterbi over forward-backward and vice-versa. Is it always the best idea to\n",
        "return the most likely explanation? Why or why not? We included two chapters on Hidden\n",
        "Markov models on HuskyCT for additional perspectives on HMMs*"
      ],
      "metadata": {
        "id": "pXLG7aCbMnbq"
      }
    },
    {
      "cell_type": "markdown",
      "source": [
        "After running it on all provided casino data:\n",
        "* Viterbi algorithm had a mean accuracy of ~83% to the solutions\n",
        "* FB had a mean accuarcy of ~87% to the solutions\n",
        "\n",
        "Viterbi is able to find the most probable sequence of hidden states that correspond with a given sequence of occurences. This makes it better for situations where you need to focus on the sequential/temporal aspect of hidden states, such as in DNA. On the other hand, F-B finds hidden state probability distributions for any given position in the sequence, given a sequence of occurences, which makes it better for when you need to focus on individual data points and probabilities, such as for machine learning.\n",
        "\n",
        "I don't think that it is always ideal to return the most likely explanation (most likely sequence of hidden states). If the difference in hidden state probabilities at a given timestep are low (e.g. say, at timestep t, state A and B have probabilities of 0.49 and 0.51 respectively), then simply taking the max is unreliable. To preserve this nuance, it would be better just to have a series of probabilities."
      ],
      "metadata": {
        "id": "-ccPPmDKMpZ0"
      }
    }
  ]
}